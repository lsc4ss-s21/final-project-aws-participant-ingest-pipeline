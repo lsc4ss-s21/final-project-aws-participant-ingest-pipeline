{
 "cells": [
  {
   "cell_type": "markdown",
<<<<<<< HEAD
   "id": "dc625842",
   "metadata": {},
   "source": [
    "# Participant Management - Translation & Communication\n",
=======
   "id": "678c14f8",
   "metadata": {},
   "source": [
    "# Participant Management - IRB Compliance\n",
>>>>>>> 77a347abdb8a4ddbbb58d87181aa32c1453f6932
    "## Large Scale Computing for the Social Sciences, Final Project\n",
    "### Max Kramer\n",
    "---\n",
    "It is recommended to run this script on an EMR cluster, though it is entirely possible to run it locally or on the midway cluster as well. It is required to have `awscli` installed and your *.credentials* file updated with your AWS information. If you intend to run more than a few hundred participants, it is **strongly** recommended to run this notebook on an EMR cluster."
   ]
  },
  {
   "cell_type": "markdown",
<<<<<<< HEAD
   "id": "55d46be5",
=======
   "id": "4a63f37f",
>>>>>>> 77a347abdb8a4ddbbb58d87181aa32c1453f6932
   "metadata": {},
   "source": [
    "### Import libraries and initialize AWS clients"
   ]
  },
  {
   "cell_type": "code",
<<<<<<< HEAD
   "execution_count": 1,
   "id": "24697c0d",
=======
   "execution_count": 41,
   "id": "1dbe4ee4",
>>>>>>> 77a347abdb8a4ddbbb58d87181aa32c1453f6932
   "metadata": {},
   "outputs": [],
   "source": [
    "import csv\n",
    "import boto3\n",
    "import awscli\n",
    "import pandas as pd"
   ]
  },
  {
   "cell_type": "code",
<<<<<<< HEAD
   "execution_count": 2,
   "id": "20cbfb94",
=======
   "execution_count": 18,
   "id": "bc3dc540",
>>>>>>> 77a347abdb8a4ddbbb58d87181aa32c1453f6932
   "metadata": {},
   "outputs": [],
   "source": [
    "translate = boto3.client('translate') # initialize translation client\n",
    "\n",
    "s3 = boto3.client('s3') # initialize s3 client for data storage\n",
    "\n",
    "sns = boto3.client('sns') # initialize sns client for communication"
   ]
  },
  {
   "cell_type": "markdown",
<<<<<<< HEAD
   "id": "e900db6a",
=======
   "id": "d8f8546d",
>>>>>>> 77a347abdb8a4ddbbb58d87181aa32c1453f6932
   "metadata": {},
   "source": [
    "### Read in data"
   ]
  },
  {
   "cell_type": "code",
<<<<<<< HEAD
   "execution_count": 3,
   "id": "05786606",
=======
   "execution_count": 101,
   "id": "4f390923",
>>>>>>> 77a347abdb8a4ddbbb58d87181aa32c1453f6932
   "metadata": {},
   "outputs": [
    {
     "name": "stdout",
     "output_type": "stream",
     "text": [
<<<<<<< HEAD
      "{'ResponseMetadata': {'RequestId': 'MMN29DDCHQASV1GB', 'HostId': 'MaZEZ6H6yGnN0s9mB3WwOhE1M0tgirVJBnuTvs3W/dLCS91MgoVsKBgeuW/8ozT3lU58GcJdnoA=', 'HTTPStatusCode': 200, 'HTTPHeaders': {'x-amz-id-2': 'MaZEZ6H6yGnN0s9mB3WwOhE1M0tgirVJBnuTvs3W/dLCS91MgoVsKBgeuW/8ozT3lU58GcJdnoA=', 'x-amz-request-id': 'MMN29DDCHQASV1GB', 'date': 'Sat, 05 Jun 2021 00:15:10 GMT', 'x-amz-bucket-region': 'us-east-1', 'content-type': 'application/xml', 'transfer-encoding': 'chunked', 'server': 'AmazonS3'}, 'RetryAttempts': 0}, 'IsTruncated': False, 'Marker': '', 'Contents': [{'Key': 'filter_output.csv', 'LastModified': datetime.datetime(2021, 6, 5, 0, 14, 32, tzinfo=tzutc()), 'ETag': '\"1a3cc4ad12991ab24763671e919c430d\"', 'Size': 748, 'StorageClass': 'STANDARD', 'Owner': {'DisplayName': 'awslabsc0w2139152t1616996578', 'ID': 'cb76d247bbf1e7440d5f28ff9ce5451937b64f8c71e297b2842c864829666f61'}}, {'Key': 'ingest_output.csv', 'LastModified': datetime.datetime(2021, 6, 4, 23, 35, 58, tzinfo=tzutc()), 'ETag': '\"f4b1e13fde1f1c79943a1486279987b6\"', 'Size': 1888, 'StorageClass': 'STANDARD', 'Owner': {'DisplayName': 'awslabsc0w2139152t1616996578', 'ID': 'cb76d247bbf1e7440d5f28ff9ce5451937b64f8c71e297b2842c864829666f61'}}], 'Name': 'lcssfinal', 'Prefix': '', 'MaxKeys': 1000, 'EncodingType': 'url'}\n"
=======
      "{'ResponseMetadata': {'RequestId': 'PC3RC39X8EXWRWGX', 'HostId': 'djI9O5U5/h46Fqn2i2B9O1h6Sr1Z0p90pG1Wz4BuGKGSPnZnOc4mMy1PILMH7k7VPKml6K1fR6Y=', 'HTTPStatusCode': 200, 'HTTPHeaders': {'x-amz-id-2': 'djI9O5U5/h46Fqn2i2B9O1h6Sr1Z0p90pG1Wz4BuGKGSPnZnOc4mMy1PILMH7k7VPKml6K1fR6Y=', 'x-amz-request-id': 'PC3RC39X8EXWRWGX', 'date': 'Fri, 04 Jun 2021 07:18:18 GMT', 'x-amz-bucket-region': 'us-east-1', 'content-type': 'application/xml', 'transfer-encoding': 'chunked', 'server': 'AmazonS3'}, 'RetryAttempts': 0}, 'IsTruncated': False, 'Marker': '', 'Contents': [{'Key': 'ingest_output.csv', 'LastModified': datetime.datetime(2021, 6, 4, 6, 17, 28, tzinfo=tzutc()), 'ETag': '\"8e84f64ca943e32bf81f94d9e23c9ead\"', 'Size': 838, 'StorageClass': 'STANDARD', 'Owner': {'DisplayName': 'awslabsc0w2139152t1616996578', 'ID': 'cb76d247bbf1e7440d5f28ff9ce5451937b64f8c71e297b2842c864829666f61'}}], 'Name': 'lcssfinal', 'Prefix': '', 'MaxKeys': 1000, 'EncodingType': 'url'}\n"
>>>>>>> 77a347abdb8a4ddbbb58d87181aa32c1453f6932
     ]
    }
   ],
   "source": [
    "response = s3.list_objects(Bucket='lcssfinal')\n",
    "print(response)"
   ]
  },
  {
   "cell_type": "code",
<<<<<<< HEAD
   "execution_count": 4,
   "id": "494fd0a6",
=======
   "execution_count": 87,
   "id": "b8b5f9ca",
>>>>>>> 77a347abdb8a4ddbbb58d87181aa32c1453f6932
   "metadata": {},
   "outputs": [
    {
     "data": {
      "text/html": [
       "<div>\n",
       "<style scoped>\n",
       "    .dataframe tbody tr th:only-of-type {\n",
       "        vertical-align: middle;\n",
       "    }\n",
       "\n",
       "    .dataframe tbody tr th {\n",
       "        vertical-align: top;\n",
       "    }\n",
       "\n",
       "    .dataframe thead th {\n",
       "        text-align: right;\n",
       "    }\n",
       "</style>\n",
       "<table border=\"1\" class=\"dataframe\">\n",
       "  <thead>\n",
       "    <tr style=\"text-align: right;\">\n",
       "      <th></th>\n",
       "      <th>First Name</th>\n",
       "      <th>Last Name</th>\n",
<<<<<<< HEAD
       "      <th>Age</th>\n",
=======
       "      <th>Date of Birth</th>\n",
>>>>>>> 77a347abdb8a4ddbbb58d87181aa32c1453f6932
       "      <th>Height</th>\n",
       "      <th>Weight</th>\n",
       "      <th>Gender Identity</th>\n",
       "      <th>Handedness</th>\n",
       "      <th>Email Address</th>\n",
       "      <th>Cell Phone Number</th>\n",
       "      <th>Preferred Language</th>\n",
       "    </tr>\n",
       "  </thead>\n",
       "  <tbody>\n",
       "    <tr>\n",
       "      <th>0</th>\n",
<<<<<<< HEAD
       "      <td>Coen</td>\n",
       "      <td>Needell</td>\n",
       "      <td>23</td>\n",
       "      <td>66</td>\n",
       "      <td>140</td>\n",
       "      <td>male</td>\n",
       "      <td>right</td>\n",
=======
       "      <td>Max</td>\n",
       "      <td>Kramer</td>\n",
       "      <td>07/25/1997</td>\n",
       "      <td>6'0\"</td>\n",
       "      <td>215lbs</td>\n",
       "      <td>Male</td>\n",
       "      <td>Right</td>\n",
>>>>>>> 77a347abdb8a4ddbbb58d87181aa32c1453f6932
       "      <td>mkramer1@uchicago.edu</td>\n",
       "      <td>7733185225</td>\n",
       "      <td>en</td>\n",
       "    </tr>\n",
       "    <tr>\n",
       "      <th>1</th>\n",
<<<<<<< HEAD
       "      <td>Leon</td>\n",
       "      <td>Zhou</td>\n",
       "      <td>19</td>\n",
       "      <td>73</td>\n",
       "      <td>140</td>\n",
       "      <td>male</td>\n",
       "      <td>right</td>\n",
       "      <td>mkramer1@uchicago.edu</td>\n",
       "      <td>7733185225</td>\n",
       "      <td>es</td>\n",
       "    </tr>\n",
       "    <tr>\n",
       "      <th>2</th>\n",
       "      <td>Trent</td>\n",
       "      <td>Davis</td>\n",
       "      <td>20</td>\n",
       "      <td>59</td>\n",
       "      <td>125</td>\n",
       "      <td>male</td>\n",
       "      <td>right</td>\n",
       "      <td>mkramer1@uchicago.edu</td>\n",
       "      <td>7733185225</td>\n",
       "      <td>fr</td>\n",
       "    </tr>\n",
       "    <tr>\n",
       "      <th>3</th>\n",
       "      <td>Coen</td>\n",
       "      <td>Needell</td>\n",
       "      <td>23</td>\n",
       "      <td>66</td>\n",
       "      <td>140</td>\n",
       "      <td>male</td>\n",
       "      <td>right</td>\n",
       "      <td>mkramer1@uchicago.edu</td>\n",
       "      <td>7733185225</td>\n",
       "      <td>en</td>\n",
=======
       "      <td>Coen</td>\n",
       "      <td>Needell</td>\n",
       "      <td>07/22/1994</td>\n",
       "      <td>5'10\"</td>\n",
       "      <td>140lbs</td>\n",
       "      <td>Male</td>\n",
       "      <td>Right</td>\n",
       "      <td>mkramer1@uchicago.edu</td>\n",
       "      <td>7733185225</td>\n",
       "      <td>en</td>\n",
       "    </tr>\n",
       "    <tr>\n",
       "      <th>2</th>\n",
       "      <td>Deepa</td>\n",
       "      <td>Prasad</td>\n",
       "      <td>04/02/1993</td>\n",
       "      <td>5'7\"</td>\n",
       "      <td>120lbs</td>\n",
       "      <td>Female</td>\n",
       "      <td>Left</td>\n",
       "      <td>mkramer1@uchicago.edu</td>\n",
       "      <td>7733185225</td>\n",
       "      <td>en</td>\n",
       "    </tr>\n",
       "    <tr>\n",
       "      <th>3</th>\n",
       "      <td>Wilma</td>\n",
       "      <td>Bainbridge</td>\n",
       "      <td>10/12/1998</td>\n",
       "      <td>5'4\"</td>\n",
       "      <td>125lbs</td>\n",
       "      <td>Female</td>\n",
       "      <td>Left</td>\n",
       "      <td>mkramer1@uchicago.edu</td>\n",
       "      <td>7733185225</td>\n",
       "      <td>es</td>\n",
>>>>>>> 77a347abdb8a4ddbbb58d87181aa32c1453f6932
       "    </tr>\n",
       "    <tr>\n",
       "      <th>4</th>\n",
       "      <td>Leon</td>\n",
       "      <td>Zhou</td>\n",
<<<<<<< HEAD
       "      <td>19</td>\n",
       "      <td>73</td>\n",
       "      <td>140</td>\n",
       "      <td>male</td>\n",
       "      <td>right</td>\n",
=======
       "      <td>07/25/1997</td>\n",
       "      <td>6'1\"</td>\n",
       "      <td>140lbs</td>\n",
       "      <td>Male</td>\n",
       "      <td>Right</td>\n",
>>>>>>> 77a347abdb8a4ddbbb58d87181aa32c1453f6932
       "      <td>mkramer1@uchicago.edu</td>\n",
       "      <td>7733185225</td>\n",
       "      <td>es</td>\n",
       "    </tr>\n",
       "    <tr>\n",
       "      <th>5</th>\n",
<<<<<<< HEAD
       "      <td>Trent</td>\n",
       "      <td>Davis</td>\n",
       "      <td>20</td>\n",
       "      <td>59</td>\n",
       "      <td>125</td>\n",
       "      <td>male</td>\n",
       "      <td>right</td>\n",
       "      <td>mkramer1@uchicago.edu</td>\n",
       "      <td>7733185225</td>\n",
       "      <td>fr</td>\n",
       "    </tr>\n",
       "    <tr>\n",
       "      <th>6</th>\n",
       "      <td>Coen</td>\n",
       "      <td>Needell</td>\n",
       "      <td>23</td>\n",
       "      <td>66</td>\n",
       "      <td>140</td>\n",
       "      <td>male</td>\n",
       "      <td>right</td>\n",
       "      <td>mkramer1@uchicago.edu</td>\n",
       "      <td>7733185225</td>\n",
       "      <td>en</td>\n",
       "    </tr>\n",
       "    <tr>\n",
       "      <th>7</th>\n",
       "      <td>Leon</td>\n",
       "      <td>Zhou</td>\n",
       "      <td>19</td>\n",
       "      <td>73</td>\n",
       "      <td>140</td>\n",
       "      <td>male</td>\n",
       "      <td>right</td>\n",
       "      <td>mkramer1@uchicago.edu</td>\n",
       "      <td>7733185225</td>\n",
       "      <td>es</td>\n",
       "    </tr>\n",
       "    <tr>\n",
       "      <th>8</th>\n",
       "      <td>Trent</td>\n",
       "      <td>Davis</td>\n",
       "      <td>20</td>\n",
       "      <td>59</td>\n",
       "      <td>125</td>\n",
       "      <td>male</td>\n",
       "      <td>right</td>\n",
=======
       "      <td>Madeline</td>\n",
       "      <td>Gedvila</td>\n",
       "      <td>07/22/1994</td>\n",
       "      <td>5'5\"</td>\n",
       "      <td>155lbs</td>\n",
       "      <td>Female</td>\n",
       "      <td>Right</td>\n",
       "      <td>mkramer1@uchicago.edu</td>\n",
       "      <td>7733185225</td>\n",
       "      <td>zh</td>\n",
       "    </tr>\n",
       "    <tr>\n",
       "      <th>6</th>\n",
       "      <td>Rebecca</td>\n",
       "      <td>Greenberg</td>\n",
       "      <td>04/02/1993</td>\n",
       "      <td>5'6\"</td>\n",
       "      <td>110lbs</td>\n",
       "      <td>Female</td>\n",
       "      <td>Left</td>\n",
       "      <td>mkramer1@uchicago.edu</td>\n",
       "      <td>7733185225</td>\n",
       "      <td>zh</td>\n",
       "    </tr>\n",
       "    <tr>\n",
       "      <th>7</th>\n",
       "      <td>Trent</td>\n",
       "      <td>Davis</td>\n",
       "      <td>10/12/1998</td>\n",
       "      <td>5'7\"</td>\n",
       "      <td>125lbs</td>\n",
       "      <td>Male</td>\n",
       "      <td>Right</td>\n",
>>>>>>> 77a347abdb8a4ddbbb58d87181aa32c1453f6932
       "      <td>mkramer1@uchicago.edu</td>\n",
       "      <td>7733185225</td>\n",
       "      <td>fr</td>\n",
       "    </tr>\n",
       "  </tbody>\n",
       "</table>\n",
       "</div>"
      ],
      "text/plain": [
<<<<<<< HEAD
       "  First Name Last Name  Age  Height  Weight Gender Identity Handedness  \\\n",
       "0       Coen   Needell   23      66     140            male      right   \n",
       "1      Leon       Zhou   19      73     140            male      right   \n",
       "2      Trent     Davis   20      59     125            male      right   \n",
       "3       Coen   Needell   23      66     140            male      right   \n",
       "4      Leon       Zhou   19      73     140            male      right   \n",
       "5      Trent     Davis   20      59     125            male      right   \n",
       "6       Coen   Needell   23      66     140            male      right   \n",
       "7      Leon       Zhou   19      73     140            male      right   \n",
       "8      Trent     Davis   20      59     125            male      right   \n",
       "\n",
       "           Email Address  Cell Phone Number Preferred Language  \n",
       "0  mkramer1@uchicago.edu         7733185225                 en  \n",
       "1  mkramer1@uchicago.edu         7733185225                 es  \n",
       "2  mkramer1@uchicago.edu         7733185225                 fr  \n",
       "3  mkramer1@uchicago.edu         7733185225                 en  \n",
       "4  mkramer1@uchicago.edu         7733185225                 es  \n",
       "5  mkramer1@uchicago.edu         7733185225                 fr  \n",
       "6  mkramer1@uchicago.edu         7733185225                 en  \n",
       "7  mkramer1@uchicago.edu         7733185225                 es  \n",
       "8  mkramer1@uchicago.edu         7733185225                 fr  "
      ]
     },
     "execution_count": 4,
=======
       "  First Name   Last Name Date of Birth Height  Weight Gender Identity  \\\n",
       "0        Max      Kramer    07/25/1997   6'0\"  215lbs            Male   \n",
       "1       Coen     Needell    07/22/1994  5'10\"  140lbs            Male   \n",
       "2      Deepa      Prasad    04/02/1993   5'7\"  120lbs          Female   \n",
       "3      Wilma  Bainbridge    10/12/1998   5'4\"  125lbs          Female   \n",
       "4      Leon         Zhou    07/25/1997   6'1\"  140lbs            Male   \n",
       "5   Madeline     Gedvila    07/22/1994   5'5\"  155lbs          Female   \n",
       "6    Rebecca   Greenberg    04/02/1993   5'6\"  110lbs          Female   \n",
       "7      Trent       Davis    10/12/1998   5'7\"  125lbs            Male   \n",
       "\n",
       "  Handedness          Email Address  Cell Phone Number Preferred Language  \n",
       "0      Right  mkramer1@uchicago.edu         7733185225                 en  \n",
       "1      Right  mkramer1@uchicago.edu         7733185225                 en  \n",
       "2       Left  mkramer1@uchicago.edu         7733185225                 en  \n",
       "3       Left  mkramer1@uchicago.edu         7733185225                 es  \n",
       "4      Right  mkramer1@uchicago.edu         7733185225                 es  \n",
       "5      Right  mkramer1@uchicago.edu         7733185225                 zh  \n",
       "6       Left  mkramer1@uchicago.edu         7733185225                 zh  \n",
       "7      Right  mkramer1@uchicago.edu         7733185225                 fr  "
      ]
     },
     "execution_count": 87,
>>>>>>> 77a347abdb8a4ddbbb58d87181aa32c1453f6932
     "metadata": {},
     "output_type": "execute_result"
    }
   ],
   "source": [
<<<<<<< HEAD
    "obj = s3.get_object(Bucket='lcssfinal', Key='filter_output.csv')\n",
    "obj_df = pd.read_csv(obj['Body'])\n",
    "df = obj_df\n",
=======
    "df_list =  [ ] \n",
    "\n",
    "for file in response['Contents']:\n",
    "    obj = s3.get_object(Bucket='lcssfinal', Key=file['Key'])\n",
    "    obj_df = pd.read_csv(obj['Body'])\n",
    "    df_list.append(obj_df)\n",
    "    \n",
    "df = pd.concat(df_list)\n",
>>>>>>> 77a347abdb8a4ddbbb58d87181aa32c1453f6932
    "\n",
    "df"
   ]
  },
  {
   "cell_type": "markdown",
<<<<<<< HEAD
   "id": "bb03012a",
=======
   "id": "8ce15c8b",
>>>>>>> 77a347abdb8a4ddbbb58d87181aa32c1453f6932
   "metadata": {},
   "source": [
    "### Generate SNS Topic & Subscribe Participants"
   ]
  },
  {
   "cell_type": "code",
<<<<<<< HEAD
   "execution_count": 5,
   "id": "0c93d1ce",
=======
   "execution_count": 116,
   "id": "a4723e5f",
>>>>>>> 77a347abdb8a4ddbbb58d87181aa32c1453f6932
   "metadata": {},
   "outputs": [],
   "source": [
    "ARNs = {} # Store ARNs for SNS\n",
    "\n",
    "for index, row in df.iterrows():\n",
    "    cell_number = row['Cell Phone Number'] # get phone numbers\n",
    "    email = row['Email Address'] # get email addresses\n",
    "    lang = row['Preferred Language']\n",
    "    topic = sns.create_topic(Name=\"IRB_compliance_{}\".format(row['Preferred Language'])) # generate new SNS topic for IRB forms\n",
    "    IRB_ARN = topic['TopicArn'] # get TopicARN\n",
    "    ARNs[lang] = IRB_ARN # save ARN with languageCode\n",
    "    \n",
    "    resp_email = sns.subscribe( # Subscribe Email\n",
    "    TopicArn = IRB_ARN,\n",
    "    Protocol = 'email', Endpoint=row['Email Address'])\n",
    "    \n",
    "    resp_cell = sns.subscribe( # Subscribe SMS\n",
    "    TopicArn = IRB_ARN,\n",
<<<<<<< HEAD
    "    Protocol = 'sms', Endpoint=\"+1\"+ str(row[\"Cell Phone Number\"]))\n",
    "    break # ONLY HERE TO PREVENT ME FROM GETTING HUNDREDS OF EMAILS DURING TEST"
=======
    "    Protocol = 'sms', Endpoint=\"+1\"+ str(row[\"Cell Phone Number\"]))"
>>>>>>> 77a347abdb8a4ddbbb58d87181aa32c1453f6932
   ]
  },
  {
   "cell_type": "markdown",
<<<<<<< HEAD
   "id": "86248294",
=======
   "id": "a1bb046f",
>>>>>>> 77a347abdb8a4ddbbb58d87181aa32c1453f6932
   "metadata": {},
   "source": [
    "###  Load in IRB Form"
   ]
  },
  {
   "cell_type": "code",
<<<<<<< HEAD
   "execution_count": 6,
   "id": "29573ee0",
=======
   "execution_count": 96,
   "id": "720cfe17",
>>>>>>> 77a347abdb8a4ddbbb58d87181aa32c1453f6932
   "metadata": {},
   "outputs": [
    {
     "name": "stdout",
     "output_type": "stream",
     "text": [
      "University of Chicago Online Consent Form for Research Participation\n",
      "\n",
      "Study Number: IRB19-1395\n",
      "Study Title: Human memory & cognition\n",
      "Researcher: Wilma A. Bainbridge, PhD\n",
      "\n",
      "Description: We are researchers at the University of Chicago doing a research study about how human sensation (vision, audition) and memory interact. During this study, you will see visual stimuli (e.g., images, videos, text) presented on a computer monitor, and/or hear sounds (e.g., music, tones, voices, sounds from a video) through headphones or speakers. You will respond to the task instructions with a button press, typing, mouse movement, drawing, or speaking through a microphone. You may also be asked to complete questionnaires that assess cognitive abilities. Participation will take less than 1 hour. Your participation is voluntary and you can withdraw at any time. Depending on the experiment, you may receive between $6-$10/hour for your participation.\n",
      "\n",
      "Risks and Benefits: Taking part in this research study may not benefit you personally, but we may learn new things that could help others. Your participation in this study does not involve any risk to you beyond that of everyday life.\n",
      "\n",
      "Confidentiality: The researchers will not know your name, and no identifying information will be connected to your survey answers in any way. The survey is therefore anonymous. Anonymous data from this study may be used for future research studies or shared with other researchers for future research without your additional informed consent. If you decide to withdraw from this study, data collected up until the point of withdrawal may still be included in the analysis.\n",
      "\n",
      "Contacts & Questions:\n",
      "If you have questions or concerns about the study, you can contact the Principal Investigator Dr. Wilma A. Bainbridge at bainbridgelab@uchicago.edu. \n",
      "\n",
      "If you have any questions about your rights as a participant in this research, feel you have been harmed, or wish to discuss other study-related concerns with someone who is not part of the research team, you can contact the University of Chicago Social & Behavioral Sciences Institutional Review Board (IRB) Office by phone at (773) 702-2915, or by email at sbs-irb@uchicago.edu. \n",
      "\n",
      "Consent: \n",
      "Participation is voluntary. Refusal to participate or withdrawing from the research will involve no penalty or loss of benefits to which you might otherwise be entitled. \n",
      "\n",
      "Please email mkramer1@uchicago.edu either \"AGREE\" or \"DISAGREE\" to give or refuse your consent to participate in this study. \n",
      "\n"
     ]
    }
   ],
   "source": [
    "f = open(\"IRB.txt\", \"r\") # Read in IRB Form\n",
    "IRB_form = f.read()\n",
    "print(IRB_form)"
   ]
  },
  {
   "cell_type": "markdown",
<<<<<<< HEAD
   "id": "5ea620aa",
=======
   "id": "ef89ed43",
>>>>>>> 77a347abdb8a4ddbbb58d87181aa32c1453f6932
   "metadata": {},
   "source": [
    "### Translate Message and Send"
   ]
  },
  {
   "cell_type": "code",
<<<<<<< HEAD
   "execution_count": null,
   "id": "e81c499f",
=======
   "execution_count": 119,
   "id": "a491d846",
>>>>>>> 77a347abdb8a4ddbbb58d87181aa32c1453f6932
   "metadata": {},
   "outputs": [],
   "source": [
    "for val in df['Preferred Language'].unique(): # iterate over languages\n",
    "    languageCode = val # get active user preferred language\n",
    "    ARN = ARNs[languageCode] # get TopicARN for language \n",
    "    \n",
    "    subject = translate.translate_text( # Translate message header\n",
    "    Text=\"BrainBridge Lab IRB Compliance Form\",\n",
    "    SourceLanguageCode=\"auto\",\n",
    "    TargetLanguageCode=languageCode\n",
    "    )\n",
    "\n",
    "    message = translate.translate_text( # Translate IRB form\n",
    "    Text=IRB_form,\n",
    "    SourceLanguageCode='auto',\n",
    "    TargetLanguageCode=languageCode)\n",
    "\n",
    "    # Get contents for IRB emails\n",
    "    body = message['TranslatedText']\n",
    "    headline = subject['TranslatedText']\n",
    "    \n",
    "    # Publish to corresponding TopicARN\n",
    "    sns.publish(TopicArn = ARN,\n",
    "                Message = body,\n",
    "                Subject = headline\n",
<<<<<<< HEAD
    "               )\n",
    "\n",
    "    # NOTE: NOT RUNNING THIS TO AVOID GETTING HUNDREDS OF EMAILS, CONFIRMED IT WORKS ON SMALLER DATA, SEE GIT REPO FOR EMAIL "
=======
    "               )"
>>>>>>> 77a347abdb8a4ddbbb58d87181aa32c1453f6932
   ]
  }
 ],
 "metadata": {
  "kernelspec": {
   "display_name": "Python 3",
   "language": "python",
   "name": "python3"
  },
  "language_info": {
   "codemirror_mode": {
    "name": "ipython",
    "version": 3
   },
   "file_extension": ".py",
   "mimetype": "text/x-python",
   "name": "python",
   "nbconvert_exporter": "python",
   "pygments_lexer": "ipython3",
   "version": "3.7.10"
  }
 },
 "nbformat": 4,
 "nbformat_minor": 5
}
